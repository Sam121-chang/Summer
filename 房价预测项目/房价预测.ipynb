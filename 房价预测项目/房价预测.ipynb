{
 "cells": [
  {
   "metadata": {
    "ExecuteTime": {
     "end_time": "2025-07-01T09:08:20.509189Z",
     "start_time": "2025-07-01T09:08:20.265135Z"
    }
   },
   "cell_type": "code",
   "source": [
    "# 完全清空变量状态\n",
    "%reset -f  # Jupyter中用\n"
   ],
   "id": "7593f78a327a4a9b",
   "outputs": [
    {
     "name": "stdout",
     "output_type": "stream",
     "text": [
      "Don't know how to reset  #, please run `%reset?` for details\n",
      "Don't know how to reset  jupyter中用, please run `%reset?` for details\n"
     ]
    }
   ],
   "execution_count": 7
  },
  {
   "metadata": {
    "ExecuteTime": {
     "end_time": "2025-07-01T09:10:56.503024Z",
     "start_time": "2025-07-01T09:10:56.226111Z"
    }
   },
   "cell_type": "code",
   "source": [
    "import pandas as pd\n",
    "import numpy as np\n",
    "import matplotlib.pyplot as plt\n",
    "import seaborn as sns\n",
    "from sklearn.preprocessing import StandardScaler\n",
    "\n",
    "# 读取数据\n",
    "train = pd.read_csv(\"data/train.csv\")\n",
    "test = pd.read_csv(\"data/test.csv\")\n",
    "\n",
    "# 添加标签列用于区分\n",
    "train[\"DataSplit\"] = \"train\"\n",
    "test[\"DataSplit\"] = \"test\"\n",
    "\n",
    "# 添加 SalePrice 占位列，保持结构统一\n",
    "test[\"SalePrice\"] = np.nan\n",
    "\n",
    "# 合并数据\n",
    "df_all = pd.concat([train, test], axis=0, ignore_index=True)\n",
    "\n",
    "# ✅ 确保 DataSplit 存在\n",
    "assert \"DataSplit\" in df_all.columns, \"❌ df_all中缺失 DataSplit 列！\"\n",
    "\n",
    "# 可视化缺失值比例（可选）\n",
    "missing = df_all.isnull().sum()\n",
    "missing = missing[missing > 0].sort_values(ascending=False)\n",
    "missing_pct = (missing / df_all.shape[0]).sort_values(ascending=False)\n",
    "\n",
    "plt.figure(figsize=(12,6))\n",
    "missing_pct.plot(kind='bar')\n",
    "plt.title(\"Missing Value Percentage by Feature\")\n",
    "plt.ylabel(\"Percentage\")\n",
    "plt.tight_layout()\n",
    "plt.savefig(\"missing_values.png\")\n",
    "plt.close()\n",
    "\n",
    "# 删除缺失超过40%的列\n",
    "to_drop = missing_pct[missing_pct > 0.4].index.tolist()\n",
    "df_all.drop(columns=to_drop, inplace=True)\n",
    "\n",
    "# 填充缺失值\n",
    "for col in df_all.columns:\n",
    "    if df_all[col].dtype == \"object\":\n",
    "        df_all[col] = df_all[col].fillna(df_all[col].mode()[0])\n",
    "    elif df_all[col].isnull().sum() > 0:\n",
    "        df_all[col] = df_all[col].fillna(df_all[col].median())\n",
    "\n",
    "# 特征构造\n",
    "df_all[\"TotalSF\"] = df_all[\"TotalBsmtSF\"] + df_all[\"1stFlrSF\"] + df_all[\"2ndFlrSF\"]\n",
    "\n",
    "# 类别变量独热编码\n",
    "df_all = pd.get_dummies(df_all, drop_first=True)\n",
    "\n",
    "# 标准化数值特征（除去 SalePrice）\n",
    "num_cols = df_all.select_dtypes(include=[\"int64\", \"float64\"]).columns\n",
    "num_cols = [col for col in num_cols if col != \"SalePrice\"]\n",
    "scaler = StandardScaler()\n",
    "df_all[num_cols] = scaler.fit_transform(df_all[num_cols])\n",
    "\n",
    "# 拆回训练集和测试集\n",
    "# 使用 train.index 和 test.index 判断行来源\n",
    "df_all[\"is_train\"] = df_all.index.isin(train.index)\n",
    "\n",
    "# 拆分\n",
    "df_train = df_all[df_all[\"is_train\"] == True].copy()\n",
    "df_test = df_all[df_all[\"is_train\"] == False].copy()\n",
    "\n",
    "# 添加 SalePrice 回训练集\n",
    "df_train[\"SalePrice\"] = train_labels.values\n",
    "\n",
    "# 删除辅助列\n",
    "df_train.drop(columns=[\"is_train\"], inplace=True)\n",
    "df_test.drop(columns=[\"is_train\"], inplace=True)\n",
    "\n",
    "import os\n",
    "os.makedirs(\"processed\", exist_ok=True)\n",
    "\n",
    "# 保存处理好的文件\n",
    "df_train.to_csv(\"processed/processed_train.csv\", index=False)\n",
    "df_test.drop(columns=[\"SalePrice\"], errors=\"ignore\").to_csv(\"processed/processed_test.csv\", index=False)\n"
   ],
   "id": "3777bdae5cd2ee1a",
   "outputs": [],
   "execution_count": 11
  },
  {
   "metadata": {
    "ExecuteTime": {
     "end_time": "2025-07-01T11:51:44.124445Z",
     "start_time": "2025-07-01T11:51:43.823101Z"
    }
   },
   "cell_type": "code",
   "source": [
    "import pandas as pd\n",
    "from sklearn.linear_model import LinearRegression\n",
    "from sklearn.model_selection import train_test_split\n",
    "from sklearn.metrics import mean_squared_error, mean_absolute_error, r2_score\n",
    "import numpy as np\n",
    "\n",
    "# 读取预处理后的数据\n",
    "df = pd.read_csv(\"processed/processed_train.csv\")\n",
    "\n",
    "# 分离特征和标签\n",
    "X = df.drop(columns=[\"SalePrice\"])\n",
    "y = df[\"SalePrice\"]\n",
    "\n",
    "# 划分训练集和验证集\n",
    "X_train, X_valid, y_train, y_valid = train_test_split(X, y, test_size=0.2, random_state=42)\n",
    "\n",
    "# 初始化模型\n",
    "model = LinearRegression()\n",
    "\n",
    "# 训练模型\n",
    "model.fit(X_train, y_train)\n",
    "\n",
    "# 预测验证集\n",
    "y_pred = model.predict(X_valid)\n",
    "\n",
    "# 评估指标\n",
    "rmse = np.sqrt(mean_squared_error(y_valid, y_pred))\n",
    "mae = mean_absolute_error(y_valid, y_pred)\n",
    "r2 = r2_score(y_valid, y_pred)\n",
    "\n",
    "# 输出评估结果\n",
    "print(f\"RMSE（均方根误差）: {rmse:.2f}\")\n",
    "print(f\"MAE（平均绝对误差）: {mae:.2f}\")\n",
    "print(f\"R²（判定系数）: {r2:.4f}\")\n"
   ],
   "id": "38a0b29169691a6d",
   "outputs": [
    {
     "name": "stdout",
     "output_type": "stream",
     "text": [
      "RMSE（均方根误差）: 51988.94\n",
      "MAE（平均绝对误差）: 20385.86\n",
      "R²（判定系数）: 0.6476\n"
     ]
    }
   ],
   "execution_count": 1
  },
  {
   "metadata": {
    "ExecuteTime": {
     "end_time": "2025-07-01T11:54:02.935808Z",
     "start_time": "2025-07-01T11:54:02.762174Z"
    }
   },
   "cell_type": "code",
   "source": [
    "import pandas as pd\n",
    "from sklearn.linear_model import Ridge, Lasso\n",
    "from sklearn.model_selection import train_test_split\n",
    "from sklearn.metrics import mean_squared_error, mean_absolute_error, r2_score\n",
    "import numpy as np\n",
    "\n",
    "# 加载数据\n",
    "df = pd.read_csv(\"processed/processed_train.csv\")\n",
    "X = df.drop(columns=[\"SalePrice\"])\n",
    "y = df[\"SalePrice\"]\n",
    "\n",
    "# 划分训练集和验证集\n",
    "X_train, X_val, y_train, y_val = train_test_split(X, y, test_size=0.2, random_state=42)\n",
    "\n",
    "# ① Ridge回归（L2正则化）\n",
    "ridge_model = Ridge(alpha=10)\n",
    "ridge_model.fit(X_train, y_train)\n",
    "ridge_preds = ridge_model.predict(X_val)\n",
    "\n",
    "# ② Lasso回归（L1正则化）\n",
    "lasso_model = Lasso(alpha=0.001)\n",
    "lasso_model.fit(X_train, y_train)\n",
    "lasso_preds = lasso_model.predict(X_val)\n",
    "\n",
    "# 评估函数\n",
    "def evaluate(y_true, y_pred, name=\"Model\"):\n",
    "    rmse = np.sqrt(mean_squared_error(y_true, y_pred))\n",
    "    mae = mean_absolute_error(y_true, y_pred)\n",
    "    r2 = r2_score(y_true, y_pred)\n",
    "    print(f\"【{name}】 RMSE: {rmse:.2f}, MAE: {mae:.2f}, R²: {r2:.4f}\")\n",
    "\n",
    "# 打印结果\n",
    "evaluate(y_val, ridge_preds, name=\"Ridge\")\n",
    "evaluate(y_val, lasso_preds, name=\"Lasso\")\n"
   ],
   "id": "c0446237c2e3d137",
   "outputs": [
    {
     "name": "stdout",
     "output_type": "stream",
     "text": [
      "【Ridge】 RMSE: 30670.48, MAE: 18587.68, R²: 0.8774\n",
      "【Lasso】 RMSE: 51949.51, MAE: 20375.84, R²: 0.6482\n"
     ]
    },
    {
     "name": "stderr",
     "output_type": "stream",
     "text": [
      "/opt/miniconda3/lib/python3.12/site-packages/sklearn/linear_model/_coordinate_descent.py:695: ConvergenceWarning: Objective did not converge. You might want to increase the number of iterations, check the scale of the features or consider increasing regularisation. Duality gap: 2.304e+11, tolerance: 6.967e+08\n",
      "  model = cd_fast.enet_coordinate_descent(\n"
     ]
    }
   ],
   "execution_count": 2
  },
  {
   "metadata": {
    "ExecuteTime": {
     "end_time": "2025-07-01T11:55:09.691549Z",
     "start_time": "2025-07-01T11:55:09.612922Z"
    }
   },
   "cell_type": "code",
   "source": [
    "# 加载处理好的测试集\n",
    "df_test = pd.read_csv(\"processed/processed_test.csv\")\n",
    "\n",
    "# 使用 Ridge 模型进行预测\n",
    "ridge_preds_test = ridge_model.predict(df_test)\n",
    "\n",
    "# 读取原始 test.csv 获取 PassengerId\n",
    "df_test_raw = pd.read_csv(\"data/test.csv\")\n",
    "submission = pd.DataFrame({\n",
    "    \"Id\": df_test_raw[\"Id\"],\n",
    "    \"SalePrice\": ridge_preds_test\n",
    "})\n",
    "\n",
    "# 保存提交文件\n",
    "submission.to_csv(\"ridge_submission.csv\", index=False)\n",
    "print(\"✅ Ridge预测文件已生成：ridge_submission.csv\")\n"
   ],
   "id": "8f4efbf58744ccf5",
   "outputs": [
    {
     "name": "stdout",
     "output_type": "stream",
     "text": [
      "✅ Ridge预测文件已生成：ridge_submission.csv\n"
     ]
    }
   ],
   "execution_count": 3
  }
 ],
 "metadata": {
  "kernelspec": {
   "name": "python3",
   "language": "python",
   "display_name": "Python 3 (ipykernel)"
  }
 },
 "nbformat": 5,
 "nbformat_minor": 9
}
