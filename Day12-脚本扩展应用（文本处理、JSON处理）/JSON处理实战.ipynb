{
 "cells": [
  {
   "cell_type": "code",
   "execution_count": null,
   "id": "initial_id",
   "metadata": {
    "collapsed": true
   },
   "outputs": [],
   "source": [
    "\"\"\"JSON基础操作\"\"\"\n",
    "import json\n",
    "\n",
    "# JSON字符串转Python对象\n",
    "json_str = '{\"name\": \"Alice\", \"age\": 25}'\n",
    "data = json.loads(json_str)\n",
    "\n",
    "# Python对象转JSON字符串\n",
    "data = {'name': 'Bob', 'age': 30}\n",
    "json_str = json.dumps(data, indent=2)\n",
    "\n",
    "# 读取JSON文件\n",
    "with open('data.json', 'r') as f:\n",
    "    data = json.load(f)\n",
    "\n",
    "# 写入JSON文件\n",
    "with open('output.json', 'w') as f:\n",
    "    json.dump(data, f, indent=2)"
   ]
  },
  {
   "metadata": {},
   "cell_type": "code",
   "outputs": [],
   "execution_count": null,
   "source": [
    "\"\"\"JSON数据处理示例\"\"\"\n",
    "# 示例JSON数据\n",
    "students = [\n",
    "    {\"name\": \"Alice\", \"age\": 25, \"scores\": {\"math\": 85, \"english\": 90}},\n",
    "    {\"name\": \"Bob\", \"age\": 30, \"scores\": {\"math\": 78, \"english\": 82}},\n",
    "    {\"name\": \"Charlie\", \"age\": 22, \"scores\": {\"math\": 92, \"english\": 79}}\n",
    "]\n",
    "\n",
    "# 提取所有数学成绩\n",
    "math_scores = [student['scores']['math'] for student in students]\n",
    "\n",
    "# 计算平均年龄\n",
    "avg_age = sum(student['age'] for student in students) / len(students)\n",
    "\n",
    "# 添加新学生\n",
    "new_student = {\"name\": \"David\", \"age\": 27, \"scores\": {\"math\": 88, \"english\": 85}}\n",
    "students.append(new_student)\n",
    "\n",
    "# 保存更新后的数据\n",
    "with open('students.json', 'w') as f:\n",
    "    json.dump(students, f, indent=2)"
   ],
   "id": "463c4d6fdbf8150"
  }
 ],
 "metadata": {
  "kernelspec": {
   "display_name": "Python 3",
   "language": "python",
   "name": "python3"
  },
  "language_info": {
   "codemirror_mode": {
    "name": "ipython",
    "version": 2
   },
   "file_extension": ".py",
   "mimetype": "text/x-python",
   "name": "python",
   "nbconvert_exporter": "python",
   "pygments_lexer": "ipython2",
   "version": "2.7.6"
  }
 },
 "nbformat": 4,
 "nbformat_minor": 5
}
