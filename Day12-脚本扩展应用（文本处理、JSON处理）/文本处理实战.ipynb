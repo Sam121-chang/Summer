{
 "cells": [
  {
   "cell_type": "code",
   "execution_count": null,
   "id": "initial_id",
   "metadata": {
    "collapsed": true
   },
   "outputs": [],
   "source": [
    "# 读取文本文件\n",
    "with open('example.txt', 'r', encoding='utf-8') as f:\n",
    "    content = f.read()  # 读取全部内容\n",
    "    lines = f.readlines()  # 读取所有行\n",
    "\n",
    "# 统计词频\n",
    "words = content.split()\n",
    "word_count = {}\n",
    "for word in words:\n",
    "    word_count[word] = word_count.get(word, 0) + 1\n",
    "\n",
    "# 写入新文件\n",
    "with open('output.txt', 'w', encoding='utf-8') as f:\n",
    "    for word, count in word_count.items():\n",
    "        f.write(f\"{word}: {count}\\n\")"
   ]
  },
  {
   "metadata": {},
   "cell_type": "code",
   "outputs": [],
   "execution_count": null,
   "source": [
    "\"\"\"正则表达式应用\"\"\"\n",
    "import re\n",
    "\n",
    "# 匹配邮箱\n",
    "emails = re.findall(r'\\b[A-Za-z0-9._%+-]+@[A-Za-z0-9.-]+\\.[A-Z|a-z]{2,}\\b', content)\n",
    "\n",
    "# 替换文本\n",
    "new_content = re.sub(r'[0-9]+', 'NUMBER', content)\n",
    "\n",
    "# 分割句子\n",
    "sentences = re.split(r'[.!?]', content)"
   ],
   "id": "fb6ef912bc0ce7a6"
  }
 ],
 "metadata": {
  "kernelspec": {
   "display_name": "Python 3",
   "language": "python",
   "name": "python3"
  },
  "language_info": {
   "codemirror_mode": {
    "name": "ipython",
    "version": 2
   },
   "file_extension": ".py",
   "mimetype": "text/x-python",
   "name": "python",
   "nbconvert_exporter": "python",
   "pygments_lexer": "ipython2",
   "version": "2.7.6"
  }
 },
 "nbformat": 4,
 "nbformat_minor": 5
}
